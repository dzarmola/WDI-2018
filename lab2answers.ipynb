{
  "cells": [
    {
      "metadata": {
        "trusted": true
      },
      "cell_type": "code",
      "source": "def zad1(plik):\n    with open(plik) as infile:\n        ans = infile.read().count(\">\")\n    return ans\ndef zad2(plik):\n    with open(plik) as infile:\n        s = {d[0]:\"\".join(d[1:]) for d in map(lambda x:x.split(\"\\n\"), infile.read().split(\">\")[1:])}\n    return s\ndef zad2_official(nazwa):\n    plik = open(nazwa)\n    tekst = plik.read()\n    l = tekst.split(\">\")\n    print(l[:2])\n    l.pop(0) # ponieważ jest pusty\n    slownik = {}\n    for seq in l:\n        d = seq.split(\"\\n\") #podział na linijki\n        id = d[0]\n        ssss = \"\".join(d[1:]) # łączymy pozostałe linijki w jeden napis, sklejając je pustym napisem\n        slownik[id] = ssss\n    plik.close()\n    return slownik\n\nprint(zad2(\"proteins-matched.txt\")==zad2_official(\"proteins-matched.txt\"))\n\ndef zad3(slownik):\n    return len(\"\".join(slownik.values()))/len(slownik)\n\ndef zad3_official(slownik):\n    razem = 0\n    cnt=0\n    for x in slownik:\n        razem += len(slownik[x])\n        cnt+=1\n    return razem/cnt\n\nprint(zad3(zad2(\"proteins-matched.txt\"))==zad3_official(zad2(\"proteins-matched.txt\")))\n\ndef zad4(slownik):\n    total = \"\".join(slownik.values())\n    return {x:total.count(x) for x in set(total)}\n\ndef zad4_official(slownik):\n    liczebnosc = {}\n    for seq in slownik.values():\n        for aa in seq:\n            if aa in liczebnosc:\n                liczebnosc[aa] += 1\n            else:\n                liczebnosc[aa] = 1\n                \n    return liczebnosc\n\nprint(zad4(zad2(\"proteins-matched.txt\"))==zad4_official(zad2(\"proteins-matched.txt\")))",
      "execution_count": 12,
      "outputs": [
        {
          "output_type": "stream",
          "text": "['', 'A1A4Q3\\nMLSAQERAHITQVWDLIAGHEAPFGAELLRRLFTVYPSTKVYFRHLGDHPDEVQLLSHGQ\\nRMLQAVGVAVQYMDNLRAVLSPLADLHAQVLRVDPTNFPLVIQCFQVVLASHLQGEFTVE\\nMQAAWDKFLTGVAVVLTEKYR\\n']\nTrue\nTrue\nTrue\n",
          "name": "stdout"
        }
      ]
    },
    {
      "metadata": {
        "trusted": true
      },
      "cell_type": "code",
      "source": "",
      "execution_count": null,
      "outputs": []
    }
  ],
  "metadata": {
    "kernelspec": {
      "name": "python36",
      "display_name": "Python 3.6",
      "language": "python"
    },
    "language_info": {
      "mimetype": "text/x-python",
      "nbconvert_exporter": "python",
      "name": "python",
      "pygments_lexer": "ipython3",
      "version": "3.6.6",
      "file_extension": ".py",
      "codemirror_mode": {
        "version": 3,
        "name": "ipython"
      }
    }
  },
  "nbformat": 4,
  "nbformat_minor": 2
}