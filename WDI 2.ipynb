{
  "cells": [
    {
      "metadata": {},
      "cell_type": "markdown",
      "source": "# Wstęp do Informatyki (Wykład 2)\n\nSłowo wstępne (przypominające):\n* indeksujemy zawsze od 0\n* przypisujemy od prawej do lewej, tzn:\n```nazwa_zmiennej = wartosc```\n\n`a=12` przypisuje `a <- 12`\n* konteksty (np. pętli i warunków) wyznaczone są wcięciem (zamiast np. nawiasów wąsatych jak w C lub JavaScripcie)\n\n\n\n\n# Moduły i importowanie\n\nW Pythonie sporo użytecznych funkcji jest dostępnych od razu, ale inne należy wcześniej załadować z odpowiedniej biblioteki (modułu), w którym są one zdefiniowane. Podobnie jest z niektórymi stałymi."
    },
    {
      "metadata": {
        "trusted": true
      },
      "cell_type": "code",
      "source": "#losowa liczba\nprint(random())",
      "execution_count": 1,
      "outputs": [
        {
          "output_type": "error",
          "ename": "NameError",
          "evalue": "name 'random' is not defined",
          "traceback": [
            "\u001b[0;31m---------------------------------------------------------------------------\u001b[0m",
            "\u001b[0;31mNameError\u001b[0m                                 Traceback (most recent call last)",
            "\u001b[0;32m<ipython-input-1-4ae43f7a65d1>\u001b[0m in \u001b[0;36m<module>\u001b[0;34m()\u001b[0m\n\u001b[1;32m      1\u001b[0m \u001b[0;31m#losowa liczba\u001b[0m\u001b[0;34m\u001b[0m\u001b[0;34m\u001b[0m\u001b[0m\n\u001b[0;32m----> 2\u001b[0;31m \u001b[0mprint\u001b[0m\u001b[0;34m(\u001b[0m\u001b[0mrandom\u001b[0m\u001b[0;34m(\u001b[0m\u001b[0;34m)\u001b[0m\u001b[0;34m)\u001b[0m\u001b[0;34m\u001b[0m\u001b[0m\n\u001b[0m",
            "\u001b[0;31mNameError\u001b[0m: name 'random' is not defined"
          ]
        }
      ]
    },
    {
      "metadata": {
        "trusted": true
      },
      "cell_type": "code",
      "source": "import random\nprint(random.random())",
      "execution_count": 2,
      "outputs": [
        {
          "output_type": "stream",
          "text": "0.44874935777782166\n",
          "name": "stdout"
        }
      ]
    },
    {
      "metadata": {
        "trusted": true
      },
      "cell_type": "code",
      "source": "#ale można też\nimport random as r\nprint(r.random())",
      "execution_count": 3,
      "outputs": [
        {
          "output_type": "stream",
          "text": "0.06960029519086341\n",
          "name": "stdout"
        }
      ]
    },
    {
      "metadata": {
        "trusted": true
      },
      "cell_type": "code",
      "source": "print(pi)",
      "execution_count": 4,
      "outputs": [
        {
          "output_type": "error",
          "ename": "NameError",
          "evalue": "name 'pi' is not defined",
          "traceback": [
            "\u001b[0;31m---------------------------------------------------------------------------\u001b[0m",
            "\u001b[0;31mNameError\u001b[0m                                 Traceback (most recent call last)",
            "\u001b[0;32m<ipython-input-4-9e2d2bd32686>\u001b[0m in \u001b[0;36m<module>\u001b[0;34m()\u001b[0m\n\u001b[0;32m----> 1\u001b[0;31m \u001b[0mprint\u001b[0m\u001b[0;34m(\u001b[0m\u001b[0mpi\u001b[0m\u001b[0;34m)\u001b[0m\u001b[0;34m\u001b[0m\u001b[0m\n\u001b[0m",
            "\u001b[0;31mNameError\u001b[0m: name 'pi' is not defined"
          ]
        }
      ]
    },
    {
      "metadata": {
        "trusted": true
      },
      "cell_type": "code",
      "source": "from math import pi   # Ale tego nie polecam!!\nprint(pi)",
      "execution_count": 5,
      "outputs": [
        {
          "output_type": "stream",
          "text": "3.141592653589793\n",
          "name": "stdout"
        }
      ]
    },
    {
      "metadata": {},
      "cell_type": "markdown",
      "source": "# Typy danych - __napis__ (string)\n\nNajważniejsze cechy:\n* immutable (niemodyfikowalny)\n* iterable (można chodzić po nim po kolei)\n* musi być otoczony cudzysłowem (`'`, `\"`) - inaczej interpretowany jako nazwa zmiennej"
    },
    {
      "metadata": {
        "trusted": true
      },
      "cell_type": "code",
      "source": "moj_napis = \"Sialababamak\"\nprint(len(moj_napis))",
      "execution_count": 6,
      "outputs": [
        {
          "output_type": "stream",
          "text": "12\n",
          "name": "stdout"
        }
      ]
    },
    {
      "metadata": {},
      "cell_type": "markdown",
      "source": "## Wtręt o indeksowaniu\n\nWszystko co daje się indeksować (np. napisy,listy,krotki...) możemy indeksować w dwóch kierunkach:\n* od początku - pierwszy indeks to **0** ostatni to **n-1** gdzie n to liczba elementów w naszym obiekcie\n* od końca - ostatni element ma indeks **-1**, pierwszy indeks **-n**\n\nMożemy podawać zakresy indeksów w formule:\n\n [ _indeks_ _poczatku_ : _indeks_ _pierwszego_ elementu_ktorego_nie_bierzemy_ : _krok_ ]\n\nJeżeli któraś z liczb nie zostanie podana to domyślnie jest ona zastępowana:\n\n[ 0 : n : 1]\n"
    },
    {
      "metadata": {
        "trusted": true
      },
      "cell_type": "code",
      "source": "print(\"0:\",moj_napis[0])\nprint(\"1:\",moj_napis[1])\nprint(\"11:\",moj_napis[11])",
      "execution_count": 7,
      "outputs": [
        {
          "output_type": "stream",
          "text": "0: S\n1: i\n11: k\n",
          "name": "stdout"
        }
      ]
    },
    {
      "metadata": {
        "trusted": true
      },
      "cell_type": "code",
      "source": "print(\"-1:\",moj_napis[-1])\nprint(\"-12\",moj_napis[-12])",
      "execution_count": 8,
      "outputs": [
        {
          "output_type": "stream",
          "text": "-1: k\n-12 S\n",
          "name": "stdout"
        }
      ]
    },
    {
      "metadata": {
        "trusted": true
      },
      "cell_type": "code",
      "source": "print(\"0:5\",moj_napis[0:5])\nprint(\":5\",moj_napis[:5])\nprint(\"9:len(moj_napis)\",moj_napis[9:len(moj_napis)])\nprint(\"9:\",moj_napis[9:])\nprint(\"-3:\",moj_napis[-3:])\nprint(\":\",moj_napis[:])",
      "execution_count": 9,
      "outputs": [
        {
          "output_type": "stream",
          "text": "0:5 Siala\n:5 Siala\n9:len(moj_napis) mak\n9: mak\n-3: mak\n: Sialababamak\n",
          "name": "stdout"
        }
      ]
    },
    {
      "metadata": {
        "trusted": true
      },
      "cell_type": "code",
      "source": "print(\"[-1:-5]\",moj_napis[-1:-5])\nprint(\"[-1:-5:-1]\",moj_napis[-1:-5:-1])\nprint(\"[::-1]\",moj_napis[::-1])",
      "execution_count": 10,
      "outputs": [
        {
          "output_type": "stream",
          "text": "[-1:-5] \n[-1:-5:-1] kama\n[::-1] kamababalaiS\n",
          "name": "stdout"
        }
      ]
    },
    {
      "metadata": {
        "trusted": true
      },
      "cell_type": "code",
      "source": "moj_napis[3] = \"x\"",
      "execution_count": 11,
      "outputs": [
        {
          "output_type": "error",
          "ename": "TypeError",
          "evalue": "'str' object does not support item assignment",
          "traceback": [
            "\u001b[0;31m---------------------------------------------------------------------------\u001b[0m",
            "\u001b[0;31mTypeError\u001b[0m                                 Traceback (most recent call last)",
            "\u001b[0;32m<ipython-input-11-06acb28c71b1>\u001b[0m in \u001b[0;36m<module>\u001b[0;34m()\u001b[0m\n\u001b[0;32m----> 1\u001b[0;31m \u001b[0mmoj_napis\u001b[0m\u001b[0;34m[\u001b[0m\u001b[0;36m3\u001b[0m\u001b[0;34m]\u001b[0m \u001b[0;34m=\u001b[0m \u001b[0;34m\"x\"\u001b[0m\u001b[0;34m\u001b[0m\u001b[0m\n\u001b[0m",
            "\u001b[0;31mTypeError\u001b[0m: 'str' object does not support item assignment"
          ]
        }
      ]
    },
    {
      "metadata": {
        "trusted": true
      },
      "cell_type": "code",
      "source": "moj_napis = moj_napis[:3] + \"x\" + moj_napis[4:]\nprint(moj_napis)",
      "execution_count": 12,
      "outputs": [
        {
          "output_type": "stream",
          "text": "Siaxababamak\n",
          "name": "stdout"
        }
      ]
    },
    {
      "metadata": {},
      "cell_type": "markdown",
      "source": "### Użyteczne funkcje wbudowane napisów\n\n#### Uwaga! Funkcje wbudowane obiektu wywołujemy pisząc `obiekt.funkcja()`\n\n* *napis*.find(*argument*) - znajduje indeks na którym w *napis* zaczyna się podsłowo *argument*\n* *napis*.replace(*argument1*,*argument2*) - zastępuje wszystkie wystąpienia *argument1* w napisie przez *argument2*\n* *napis*.split(*argument*) - dzieli napis poprzez wystąpienia *arguemnt*u i zwraca listę powstałych podsłów"
    },
    {
      "metadata": {
        "trusted": true
      },
      "cell_type": "code",
      "source": "kopytko = \"Equii donati dentes non inspiciuntur\"\nprint(kopytko)",
      "execution_count": 13,
      "outputs": [
        {
          "output_type": "stream",
          "text": "Equii donati dentes non inspiciuntur\n",
          "name": "stdout"
        }
      ]
    },
    {
      "metadata": {
        "trusted": true
      },
      "cell_type": "code",
      "source": "print(\"dentes\",kopytko.find(\"dentes\"))\nprint(\"domum\",kopytko.find(\"domum\"))",
      "execution_count": 14,
      "outputs": [
        {
          "output_type": "stream",
          "text": "dentes 13\ndomum -1\n",
          "name": "stdout"
        }
      ]
    },
    {
      "metadata": {
        "trusted": true
      },
      "cell_type": "code",
      "source": "print(kopytko)\nprint(kopytko.replace(\"dentes\",\"ungulas\"))\nprint(kopytko)",
      "execution_count": 15,
      "outputs": [
        {
          "output_type": "stream",
          "text": "Equii donati dentes non inspiciuntur\nEquii donati ungulas non inspiciuntur\nEquii donati dentes non inspiciuntur\n",
          "name": "stdout"
        }
      ]
    },
    {
      "metadata": {
        "trusted": true
      },
      "cell_type": "code",
      "source": "print(\"Za górami, za lasami, za morzami i rzekami\".split())\nprint(\"Za górami, za lasami, za morzami i rzekami\".split(\"za\"))",
      "execution_count": null,
      "outputs": []
    },
    {
      "metadata": {
        "trusted": true
      },
      "cell_type": "code",
      "source": "pustka = \"            .             \"\nprint(pustka)\nprint(pustka.strip())\nprint(pustka.rstrip())\nprint(pustka.lstrip())",
      "execution_count": 16,
      "outputs": [
        {
          "output_type": "stream",
          "text": "            .             \n.\n            .\n.             \n",
          "name": "stdout"
        }
      ]
    },
    {
      "metadata": {
        "trusted": true
      },
      "cell_type": "code",
      "source": "krzyk = \"aaaaaauaaeauaeauaaa\"\nprint(krzyk.upper())\nkrzyki = \"AaaAaaAAA uuUUAaaaA aeEE\"\nprint(krzyki.title())",
      "execution_count": 17,
      "outputs": [
        {
          "output_type": "stream",
          "text": "AAAAAAUAAEAUAEAUAAA\nAaaaaaaaa Uuuuaaaaa Aeee\n",
          "name": "stdout"
        }
      ]
    },
    {
      "metadata": {},
      "cell_type": "markdown",
      "source": "### Przydatna fukcje tworząca napisy: join()\n\nFunkcja `join()` jest odwrotnością funkcji `split()`, tj. skleja w jeden string\nnapisy znajdujące się na liście podanej jako argument:\n```napis = \";\".join(lista)```\njest odwrotnością\n```lista = napis.split(\";\")```\n\n#### Uwaga na kolejność argumentów! \nSplit wywołujemy na napisie, który chcemy podzielić, podając jako argument znaki/ciąg znaków, który będzie ten podział wyznaczał.\nJoin wywołujemy na ciągu znaków (potencjalnie pustym), który chcemy wstawić jako spoiwo miedzy łączonymi napisami, pochodzącymi z listy podawanej jako argument funkcji"
    },
    {
      "metadata": {
        "trusted": true
      },
      "cell_type": "code",
      "source": "napis = \"jeden;2;TRES;4our\"\nlista = napis.split(\";\")\nprint(lista)",
      "execution_count": 1,
      "outputs": [
        {
          "output_type": "stream",
          "text": "['jeden', '2', 'TRES', '4our']\n",
          "name": "stdout"
        }
      ]
    },
    {
      "metadata": {
        "trusted": true
      },
      "cell_type": "code",
      "source": "nowy_napis = \";\".join(lista)\nprint(nowy_napis)",
      "execution_count": 2,
      "outputs": [
        {
          "output_type": "stream",
          "text": "jeden;2;TRES;4our\n",
          "name": "stdout"
        }
      ]
    },
    {
      "metadata": {
        "trusted": true
      },
      "cell_type": "code",
      "source": "nowszy_napis = \"\".join(lista)\nprint(nowszy_napis)",
      "execution_count": 3,
      "outputs": [
        {
          "output_type": "stream",
          "text": "jeden2TRES4our\n",
          "name": "stdout"
        }
      ]
    },
    {
      "metadata": {},
      "cell_type": "markdown",
      "source": "# Typy danych - __lista__ (lista)\nNajważniejsze cechy listy:\n* mutable (modyfikowalna)\n* iterable (można po niej przechodzić po kolei, po indeksach)\n\nListy otoczone są nawiasami kwadratowymi."
    },
    {
      "metadata": {
        "trusted": true
      },
      "cell_type": "code",
      "source": "moja_lista = [1,2,3,4]\nprint(moja_lista[0])",
      "execution_count": 18,
      "outputs": [
        {
          "output_type": "stream",
          "text": "1\n",
          "name": "stdout"
        }
      ]
    },
    {
      "metadata": {
        "trusted": true
      },
      "cell_type": "code",
      "source": "print(moja_lista[3])",
      "execution_count": 19,
      "outputs": [
        {
          "output_type": "stream",
          "text": "4\n",
          "name": "stdout"
        }
      ]
    },
    {
      "metadata": {},
      "cell_type": "markdown",
      "source": "Indeksy mogą być ujemne (liczone od końca listy)"
    },
    {
      "metadata": {
        "trusted": true
      },
      "cell_type": "code",
      "source": "print(moja_lista[-2])",
      "execution_count": 20,
      "outputs": [
        {
          "output_type": "stream",
          "text": "3\n",
          "name": "stdout"
        }
      ]
    },
    {
      "metadata": {},
      "cell_type": "markdown",
      "source": "Listy można modyfikować"
    },
    {
      "metadata": {
        "trusted": true
      },
      "cell_type": "code",
      "source": "moja_lista[2] = \"czarnaKrowa\"",
      "execution_count": 21,
      "outputs": []
    },
    {
      "metadata": {
        "trusted": true
      },
      "cell_type": "code",
      "source": "print(moja_lista)",
      "execution_count": 22,
      "outputs": [
        {
          "output_type": "stream",
          "text": "[1, 2, 'czarnaKrowa', 4]\n",
          "name": "stdout"
        }
      ]
    },
    {
      "metadata": {},
      "cell_type": "markdown",
      "source": "### Operacje na listach działające w miejscu\n* .append() - dołącza element na końcu listy\n* .pop([x]) - usuwa z listy element na indeksie x (w domyśle x=-1)\n* .sort() - sortuje elemnty w rosnącym porządku leksykograficznym\n* .reverse() - odwraca kolejność elementów na liście\n* .extend(druga_lista) - dodaje elementy z listy podanej jako argument na koniec naszej listy"
    },
    {
      "metadata": {
        "trusted": true
      },
      "cell_type": "code",
      "source": "moja_lista.append([1,2,3])\nprint(moja_lista)\nmoja_lista.extend([1,2,3])\nprint(moja_lista)\nmoja_lista.reverse()\nprint(moja_lista)",
      "execution_count": 23,
      "outputs": [
        {
          "output_type": "stream",
          "text": "[1, 2, 'czarnaKrowa', 4, [1, 2, 3]]\n[1, 2, 'czarnaKrowa', 4, [1, 2, 3], 1, 2, 3]\n[3, 2, 1, [1, 2, 3], 4, 'czarnaKrowa', 2, 1]\n",
          "name": "stdout"
        }
      ]
    },
    {
      "metadata": {},
      "cell_type": "markdown",
      "source": "W zagnieżdzonych elementach indeksy czytane są po kolei:\n\n```moja_lista[3][2]``` to to samo co ```(moja_lista[3])[2]```\n    \nw naszym wypadku:\n\n```[1,2,3][2]``` czyli ```3```\n    "
    },
    {
      "metadata": {
        "trusted": true
      },
      "cell_type": "code",
      "source": "print(moja_lista[3][2])",
      "execution_count": 24,
      "outputs": [
        {
          "output_type": "stream",
          "text": "3\n",
          "name": "stdout"
        }
      ]
    },
    {
      "metadata": {
        "scrolled": false,
        "trusted": true
      },
      "cell_type": "code",
      "source": "nowa_lista=moja_lista\nhelp(nowa_lista)",
      "execution_count": 25,
      "outputs": [
        {
          "output_type": "stream",
          "text": "Help on list object:\n\nclass list(object)\n |  list() -> new empty list\n |  list(iterable) -> new list initialized from iterable's items\n |  \n |  Methods defined here:\n |  \n |  __add__(self, value, /)\n |      Return self+value.\n |  \n |  __contains__(self, key, /)\n |      Return key in self.\n |  \n |  __delitem__(self, key, /)\n |      Delete self[key].\n |  \n |  __eq__(self, value, /)\n |      Return self==value.\n |  \n |  __ge__(self, value, /)\n |      Return self>=value.\n |  \n |  __getattribute__(self, name, /)\n |      Return getattr(self, name).\n |  \n |  __getitem__(...)\n |      x.__getitem__(y) <==> x[y]\n |  \n |  __gt__(self, value, /)\n |      Return self>value.\n |  \n |  __iadd__(self, value, /)\n |      Implement self+=value.\n |  \n |  __imul__(self, value, /)\n |      Implement self*=value.\n |  \n |  __init__(self, /, *args, **kwargs)\n |      Initialize self.  See help(type(self)) for accurate signature.\n |  \n |  __iter__(self, /)\n |      Implement iter(self).\n |  \n |  __le__(self, value, /)\n |      Return self<=value.\n |  \n |  __len__(self, /)\n |      Return len(self).\n |  \n |  __lt__(self, value, /)\n |      Return self<value.\n |  \n |  __mul__(self, value, /)\n |      Return self*value.n\n |  \n |  __ne__(self, value, /)\n |      Return self!=value.\n |  \n |  __new__(*args, **kwargs) from builtins.type\n |      Create and return a new object.  See help(type) for accurate signature.\n |  \n |  __repr__(self, /)\n |      Return repr(self).\n |  \n |  __reversed__(...)\n |      L.__reversed__() -- return a reverse iterator over the list\n |  \n |  __rmul__(self, value, /)\n |      Return self*value.\n |  \n |  __setitem__(self, key, value, /)\n |      Set self[key] to value.\n |  \n |  __sizeof__(...)\n |      L.__sizeof__() -- size of L in memory, in bytes\n |  \n |  append(...)\n |      L.append(object) -> None -- append object to end\n |  \n |  clear(...)\n |      L.clear() -> None -- remove all items from L\n |  \n |  copy(...)\n |      L.copy() -> list -- a shallow copy of L\n |  \n |  count(...)\n |      L.count(value) -> integer -- return number of occurrences of value\n |  \n |  extend(...)\n |      L.extend(iterable) -> None -- extend list by appending elements from the iterable\n |  \n |  index(...)\n |      L.index(value, [start, [stop]]) -> integer -- return first index of value.\n |      Raises ValueError if the value is not present.\n |  \n |  insert(...)\n |      L.insert(index, object) -- insert object before index\n |  \n |  pop(...)\n |      L.pop([index]) -> item -- remove and return item at index (default last).\n |      Raises IndexError if list is empty or index is out of range.\n |  \n |  remove(...)\n |      L.remove(value) -> None -- remove first occurrence of value.\n |      Raises ValueError if the value is not present.\n |  \n |  reverse(...)\n |      L.reverse() -- reverse *IN PLACE*\n |  \n |  sort(...)\n |      L.sort(key=None, reverse=False) -> None -- stable sort *IN PLACE*\n |  \n |  ----------------------------------------------------------------------\n |  Data and other attributes defined here:\n |  \n |  __hash__ = None\n\n",
          "name": "stdout"
        }
      ]
    },
    {
      "metadata": {
        "trusted": true
      },
      "cell_type": "code",
      "source": "print(nowa_lista.__contains__(0))\nprint(\"index 2\",nowa_lista.index(2))\nprint(\"count 2\",nowa_lista.count(2))\n#print(\"index 7\",nowa_lista.index(7))\nprint(\"count 7\",nowa_lista.count(7))",
      "execution_count": 27,
      "outputs": [
        {
          "output_type": "stream",
          "text": "False\nindex 2 1\ncount 2 2\ncount 7 0\n",
          "name": "stdout"
        }
      ]
    },
    {
      "metadata": {},
      "cell_type": "markdown",
      "source": "## Typy danych - słownik (dictionary)\n\nSłownik w Pythonie przypisuje kluczom (keys) wartości (values). Słownik jest nieposortowany!\n\nSłowniki otoczone są nawiasami wąsatymi: `moj_slownik = {'klucz1':'wartosc1','klucz2':'inna_wartosc'}`\n\n**Klucze słownika muszą być immutable!!**"
    },
    {
      "metadata": {
        "trusted": true
      },
      "cell_type": "code",
      "source": "moj_slownik = {'klucz1':'wartosc1','klucz2':'inna_wartosc',12:35,'ABC':123,'CBA':[1,2,'trzy']}\nprint(moj_slownik)",
      "execution_count": 28,
      "outputs": [
        {
          "output_type": "stream",
          "text": "{'klucz2': 'inna_wartosc', 'ABC': 123, 12: 35, 'CBA': [1, 2, 'trzy'], 'klucz1': 'wartosc1'}\n",
          "name": "stdout"
        }
      ]
    },
    {
      "metadata": {},
      "cell_type": "markdown",
      "source": "Wartości słownika można nadpisywać.\n`moj_slownik[12] = 75`\n\nAnalogicznie dodajemy nowe pary klucz:wartość:\n`moj_slownik['nowy_klucz'] = 'dwa3cztery'`\n"
    },
    {
      "metadata": {
        "trusted": true
      },
      "cell_type": "code",
      "source": "moj_slownik[12]=75\nmoj_slownik['nowy_klucz'] = 'dwa3cztery'\nprint(moj_slownik)",
      "execution_count": 29,
      "outputs": [
        {
          "output_type": "stream",
          "text": "{'klucz2': 'inna_wartosc', 12: 75, 'ABC': 123, 'nowy_klucz': 'dwa3cztery', 'CBA': [1, 2, 'trzy'], 'klucz1': 'wartosc1'}\n",
          "name": "stdout"
        }
      ]
    },
    {
      "metadata": {
        "trusted": true
      },
      "cell_type": "code",
      "source": "print(moj_slownik.keys())\nprint(moj_slownik.values())\nprint(moj_slownik.items())\n## Uwaga - roznica w stosunku do Python 2.7!!\nprint(list(moj_slownik.keys())[2])\nprint(moj_slownik.keys()[2])\n",
      "execution_count": 30,
      "outputs": [
        {
          "output_type": "stream",
          "text": "dict_keys(['klucz2', 12, 'ABC', 'nowy_klucz', 'CBA', 'klucz1'])\ndict_values(['inna_wartosc', 75, 123, 'dwa3cztery', [1, 2, 'trzy'], 'wartosc1'])\ndict_items([('klucz2', 'inna_wartosc'), (12, 75), ('ABC', 123), ('nowy_klucz', 'dwa3cztery'), ('CBA', [1, 2, 'trzy']), ('klucz1', 'wartosc1')])\nABC\n",
          "name": "stdout"
        },
        {
          "output_type": "error",
          "ename": "TypeError",
          "evalue": "'dict_keys' object does not support indexing",
          "traceback": [
            "\u001b[0;31m---------------------------------------------------------------------------\u001b[0m",
            "\u001b[0;31mTypeError\u001b[0m                                 Traceback (most recent call last)",
            "\u001b[0;32m<ipython-input-30-cf2ef912e6dd>\u001b[0m in \u001b[0;36m<module>\u001b[0;34m()\u001b[0m\n\u001b[1;32m      4\u001b[0m \u001b[0;31m## Uwaga - roznica w stosunku do Python 2.7!!\u001b[0m\u001b[0;34m\u001b[0m\u001b[0;34m\u001b[0m\u001b[0m\n\u001b[1;32m      5\u001b[0m \u001b[0mprint\u001b[0m\u001b[0;34m(\u001b[0m\u001b[0mlist\u001b[0m\u001b[0;34m(\u001b[0m\u001b[0mmoj_slownik\u001b[0m\u001b[0;34m.\u001b[0m\u001b[0mkeys\u001b[0m\u001b[0;34m(\u001b[0m\u001b[0;34m)\u001b[0m\u001b[0;34m)\u001b[0m\u001b[0;34m[\u001b[0m\u001b[0;36m2\u001b[0m\u001b[0;34m]\u001b[0m\u001b[0;34m)\u001b[0m\u001b[0;34m\u001b[0m\u001b[0m\n\u001b[0;32m----> 6\u001b[0;31m \u001b[0mprint\u001b[0m\u001b[0;34m(\u001b[0m\u001b[0mmoj_slownik\u001b[0m\u001b[0;34m.\u001b[0m\u001b[0mkeys\u001b[0m\u001b[0;34m(\u001b[0m\u001b[0;34m)\u001b[0m\u001b[0;34m[\u001b[0m\u001b[0;36m2\u001b[0m\u001b[0;34m]\u001b[0m\u001b[0;34m)\u001b[0m\u001b[0;34m\u001b[0m\u001b[0m\n\u001b[0m",
            "\u001b[0;31mTypeError\u001b[0m: 'dict_keys' object does not support indexing"
          ]
        }
      ]
    },
    {
      "metadata": {
        "trusted": true
      },
      "cell_type": "code",
      "source": "moj_slownik[[1,2,3]]='a'\n#Jak zrobić wieloelementowy klucz?",
      "execution_count": 31,
      "outputs": [
        {
          "output_type": "error",
          "ename": "TypeError",
          "evalue": "unhashable type: 'list'",
          "traceback": [
            "\u001b[0;31m---------------------------------------------------------------------------\u001b[0m",
            "\u001b[0;31mTypeError\u001b[0m                                 Traceback (most recent call last)",
            "\u001b[0;32m<ipython-input-31-a68ab30994f4>\u001b[0m in \u001b[0;36m<module>\u001b[0;34m()\u001b[0m\n\u001b[0;32m----> 1\u001b[0;31m \u001b[0mmoj_slownik\u001b[0m\u001b[0;34m[\u001b[0m\u001b[0;34m[\u001b[0m\u001b[0;36m1\u001b[0m\u001b[0;34m,\u001b[0m\u001b[0;36m2\u001b[0m\u001b[0;34m,\u001b[0m\u001b[0;36m3\u001b[0m\u001b[0;34m]\u001b[0m\u001b[0;34m]\u001b[0m\u001b[0;34m=\u001b[0m\u001b[0;34m'a'\u001b[0m\u001b[0;34m\u001b[0m\u001b[0m\n\u001b[0m\u001b[1;32m      2\u001b[0m \u001b[0;31m#Jak zrobić wieloelementowy klucz?\u001b[0m\u001b[0;34m\u001b[0m\u001b[0;34m\u001b[0m\u001b[0m\n",
            "\u001b[0;31mTypeError\u001b[0m: unhashable type: 'list'"
          ]
        }
      ]
    },
    {
      "metadata": {},
      "cell_type": "markdown",
      "source": "## Typy danych - krotka (tuple)\n\nDziała podobnie jak lista, ale jest *immutable* - nie można jej zmieniać po utworzeniu\n\nKrotki otoczone są nawiasem okrągłym, np. `moja_krotka = (1,2,(2,3,4),\"trala\")`"
    },
    {
      "metadata": {
        "trusted": true
      },
      "cell_type": "code",
      "source": "moja_krotka = (1,2,(2,3,4),\"trala\")\nprint(moja_krotka)",
      "execution_count": 32,
      "outputs": [
        {
          "output_type": "stream",
          "text": "(1, 2, (2, 3, 4), 'trala')\n",
          "name": "stdout"
        }
      ]
    },
    {
      "metadata": {
        "trusted": true
      },
      "cell_type": "code",
      "source": "#ale nie do końca mozna\nmoja_zla_krotka = (1,2,[2,3,4],\"trala\")\nprint(moja_zla_krotka)\nmoja_zla_krotka[2].append(5)\nprint(moja_zla_krotka)",
      "execution_count": 34,
      "outputs": [
        {
          "output_type": "stream",
          "text": "(1, 2, [2, 3, 4], 'trala')\n(1, 2, [2, 3, 4, 5], 'trala')\n",
          "name": "stdout"
        }
      ]
    },
    {
      "metadata": {
        "trusted": true
      },
      "cell_type": "code",
      "source": "b={}\nb[moja_krotka]=1\nb[moja_zla_krotka]=2\nprint(b)",
      "execution_count": 35,
      "outputs": [
        {
          "output_type": "error",
          "ename": "TypeError",
          "evalue": "unhashable type: 'list'",
          "traceback": [
            "\u001b[0;31m---------------------------------------------------------------------------\u001b[0m",
            "\u001b[0;31mTypeError\u001b[0m                                 Traceback (most recent call last)",
            "\u001b[0;32m<ipython-input-35-2ec4bfa52cd2>\u001b[0m in \u001b[0;36m<module>\u001b[0;34m()\u001b[0m\n\u001b[1;32m      1\u001b[0m \u001b[0mb\u001b[0m\u001b[0;34m=\u001b[0m\u001b[0;34m{\u001b[0m\u001b[0;34m}\u001b[0m\u001b[0;34m\u001b[0m\u001b[0m\n\u001b[1;32m      2\u001b[0m \u001b[0mb\u001b[0m\u001b[0;34m[\u001b[0m\u001b[0mmoja_krotka\u001b[0m\u001b[0;34m]\u001b[0m\u001b[0;34m=\u001b[0m\u001b[0;36m1\u001b[0m\u001b[0;34m\u001b[0m\u001b[0m\n\u001b[0;32m----> 3\u001b[0;31m \u001b[0mb\u001b[0m\u001b[0;34m[\u001b[0m\u001b[0mmoja_zla_krotka\u001b[0m\u001b[0;34m]\u001b[0m\u001b[0;34m=\u001b[0m\u001b[0;36m2\u001b[0m\u001b[0;34m\u001b[0m\u001b[0m\n\u001b[0m\u001b[1;32m      4\u001b[0m \u001b[0mprint\u001b[0m\u001b[0;34m(\u001b[0m\u001b[0mb\u001b[0m\u001b[0;34m)\u001b[0m\u001b[0;34m\u001b[0m\u001b[0m\n",
            "\u001b[0;31mTypeError\u001b[0m: unhashable type: 'list'"
          ]
        }
      ]
    },
    {
      "metadata": {},
      "cell_type": "markdown",
      "source": "## Ułatwianie sobie życia - pętle\nPętle pozwalają na wielokrotne wykonanie tych samych działań, bez konieczności \nręcznego napisania tych komend.\nZamiast\n```\nprint(1)\nprint(2)\nprint(3)\nprint(4)\n...\nprint(12)\n```\n\nmożemy napisać:\n\n```\nfor i in [1,2,3,4,5,6,7,8,9,10,11,12]:\n    print(i)\n```\n\nA korzystając z wbudowanych funkcji:\n\n```\nfor i in range(12):\n    print(i)\n```\n\nW Pythonie mamy dwa główne typy pętli:\n* pętla for - przechodzi po elementach iterowalnego obiektu\n* pętla while - wykonywana dopóki określony warunek jest spełniony\n\nAnalogiczna pętla while:\n```\ni=1\nwhile i<13:\n    print(i)\n    i+=1\n```\n\n### UWAGA! \n**\"Ciało\" pętli - instrukcje które chcemy wykonywać wielokrotnie - piszemy po wcięciu (spacje lub tabulator)**\n\n"
    },
    {
      "metadata": {
        "trusted": true
      },
      "cell_type": "code",
      "source": "#Pętla for zawsze przechodzi po iterowalnym obiekcie\nfor elemnt in moja_lista:\n    print(elemnt)",
      "execution_count": 36,
      "outputs": [
        {
          "output_type": "stream",
          "text": "3\n2\n1\n[1, 2, 3]\n4\nczarnaKrowa\n2\n1\n",
          "name": "stdout"
        }
      ]
    },
    {
      "metadata": {},
      "cell_type": "markdown",
      "source": "### Sterowanie pętlą\n\nPętlę można przerwać przed czasem (tj. dojściem do końca obiektu/unieważnieniem warunku)\nsłowem kluczowym **break**\n\nPrzejście do następnego obejścia pętli można wymusić słowem kluczowym **continue**"
    },
    {
      "metadata": {
        "trusted": true
      },
      "cell_type": "code",
      "source": "print(\"Case 1\")\nfor thing in range(10):\n    break \n    print(thing)\nprint(\"After loop:\",thing)",
      "execution_count": 37,
      "outputs": [
        {
          "output_type": "stream",
          "text": "Case 1\nAfter loop: 0\n",
          "name": "stdout"
        }
      ]
    },
    {
      "metadata": {
        "trusted": true
      },
      "cell_type": "code",
      "source": "print(\"Case 2\")\nfor thing in range(10):\n    print(thing)\n    break\nprint(\"After loop:\",thing)",
      "execution_count": 38,
      "outputs": [
        {
          "output_type": "stream",
          "text": "Case 2\n0\nAfter loop: 0\n",
          "name": "stdout"
        }
      ]
    },
    {
      "metadata": {
        "trusted": true
      },
      "cell_type": "code",
      "source": "print(\"Case 3\")\nfor thing in range(10):\n    continue\n    print(thing)\nprint(\"After loop:\",thing)",
      "execution_count": 39,
      "outputs": [
        {
          "output_type": "stream",
          "text": "Case 3\nAfter loop: 9\n",
          "name": "stdout"
        }
      ]
    },
    {
      "metadata": {
        "trusted": true
      },
      "cell_type": "code",
      "source": "print(\"Case 4\")\nfor thing in range(10):\n    if thing%2 == 1:\n        continue\n    print(thing)",
      "execution_count": 40,
      "outputs": [
        {
          "output_type": "stream",
          "text": "Case 4\n0\n2\n4\n6\n8\n",
          "name": "stdout"
        }
      ]
    },
    {
      "metadata": {},
      "cell_type": "markdown",
      "source": "## Instrukcja warunkowa: if .... elif ... else:\n\nInstrukcje warunkowe to tak zwane instrukcje sterujące - pozwalają\nna nieliniową budowę programu.\n\n``` if warunek:\n     działanie1\nelif warunek2:\n    działanie2\nelse:\n    działanie3\n```\n\nWykonane zostanie tylko jedno z powyższych działań, w zależności od spełnienia warunków `warunek` i `warunek2`\n### UWAGA! \n**Działania zależne od warunku piszemy po wcięciu (spacje lub tabulator)**\n"
    },
    {
      "metadata": {
        "trusted": true
      },
      "cell_type": "code",
      "source": "if 2%2!=0:\n    print(\"spełniony pierwszy\")\nelif 3%2==1: #opcjonalnie\n    print(\"spełniony drugi\")\nelse: #opcjonalnie\n    print(\"Żaden\")\n",
      "execution_count": 42,
      "outputs": [
        {
          "output_type": "stream",
          "text": "spełniony drugi\n",
          "name": "stdout"
        }
      ]
    },
    {
      "metadata": {},
      "cell_type": "markdown",
      "source": "## List comprehension - skrócony sposób tworzenia list przez iterację\n\nZapis\n\n```nowa_lista = []\nfor indeks,element in enumerate(moja_lista):\n    if indeks%2 == 1: \n        nowa_lista.append(element)```\n\nmożemy zastąpić\n\n```nowa_lista = [element for indeks,element in enumerate(moja_lista) if indeks%2==1]```\n"
    },
    {
      "metadata": {
        "trusted": true
      },
      "cell_type": "code",
      "source": "nowa_lista = []\nfor indeks,element in enumerate(moja_lista):# użyteczna funkcja - przechodzi po parach indeks, element\n    if indeks%2 == 1: #wybieramy nieparzyste indeksy\n        nowa_lista.append(element)\nprint(nowa_lista)",
      "execution_count": 43,
      "outputs": [
        {
          "output_type": "stream",
          "text": "[2, [1, 2, 3], 'czarnaKrowa', 1]\n",
          "name": "stdout"
        }
      ]
    },
    {
      "metadata": {
        "scrolled": true,
        "trusted": true
      },
      "cell_type": "code",
      "source": "nowa_lista2 = [element for indeks,element in enumerate(moja_lista) if indeks%2==1]\nprint(nowa_lista2)",
      "execution_count": 44,
      "outputs": [
        {
          "output_type": "stream",
          "text": "[2, [1, 2, 3], 'czarnaKrowa', 1]\n",
          "name": "stdout"
        }
      ]
    },
    {
      "metadata": {
        "trusted": true
      },
      "cell_type": "code",
      "source": "nowa_lista2 = [para[1] for para in enumerate(moja_lista) if para[0]%2 == 1]\nprint(nowa_lista2)",
      "execution_count": 46,
      "outputs": [
        {
          "output_type": "stream",
          "text": "[2, [1, 2, 3], 'czarnaKrowa', 1]\n",
          "name": "stdout"
        }
      ]
    },
    {
      "metadata": {
        "trusted": true
      },
      "cell_type": "code",
      "source": "print(moja_lista)",
      "execution_count": 47,
      "outputs": [
        {
          "output_type": "stream",
          "text": "[3, 2, 1, [1, 2, 3], 4, 'czarnaKrowa', 2, 1]\n",
          "name": "stdout"
        }
      ]
    },
    {
      "metadata": {
        "trusted": true
      },
      "cell_type": "code",
      "source": "print(list(enumerate(moja_lista)))",
      "execution_count": 49,
      "outputs": [
        {
          "output_type": "stream",
          "text": "[(0, 3), (1, 2), (2, 1), (3, [1, 2, 3]), (4, 4), (5, 'czarnaKrowa'), (6, 2), (7, 1)]\n",
          "name": "stdout"
        }
      ]
    },
    {
      "metadata": {},
      "cell_type": "markdown",
      "source": "### Uwaga!! Składnia list comprehension zmienia się gdy pojawia się tam instrukcja warunkowa typu if...else...\n\n```nowa_lista = []\nfor indeks,element in enumerate(moja_lista):# użyteczna funkcja - przechodzi po parach indeks, element\n    if indeks%2 == 1: #wybieramy nieparzyste indeksy\n        nowa_lista.append(element)\n    else:\n        nowa_lista.append(indeks)```\n\nstaje się\n\n```nowa_lista = [element if indeks%2==1 else indeks for indeks,element in enumerate(moja_lista)]```"
    },
    {
      "metadata": {
        "trusted": true
      },
      "cell_type": "code",
      "source": "",
      "execution_count": null,
      "outputs": []
    },
    {
      "metadata": {
        "trusted": true
      },
      "cell_type": "code",
      "source": "nowa_lista = []\nfor indeks,element in enumerate(moja_lista):# użyteczna funkcja - przechodzi po parach indeks, element\n    if indeks%2 == 1: #wybieramy nieparzyste indeksy\n        nowa_lista.append(element)\n    else:\n        nowa_lista.append(indeks)\nprint(nowa_lista)",
      "execution_count": 50,
      "outputs": [
        {
          "output_type": "stream",
          "text": "[0, 2, 2, [1, 2, 3], 4, 'czarnaKrowa', 6, 1]\n",
          "name": "stdout"
        }
      ]
    },
    {
      "metadata": {
        "trusted": true
      },
      "cell_type": "code",
      "source": "nowa_lista2 = [element if indeks%2==1 else indeks for indeks,element in enumerate(moja_lista)]\nprint(nowa_lista2)",
      "execution_count": 51,
      "outputs": [
        {
          "output_type": "stream",
          "text": "[0, 2, 2, [1, 2, 3], 4, 'czarnaKrowa', 6, 1]\n",
          "name": "stdout"
        }
      ]
    },
    {
      "metadata": {},
      "cell_type": "markdown",
      "source": "## Korzystanie z plików w Pythonie\n\nPliki otwieramy korzystając z polecenia `open()`, któremu podajemy ścieżkę do pliku, który chcemy otworzyć\n```\nmoj_plik = open(\"./plik1\")\n```\n\nW domyśle plik otwarty jest tylko do oczytu. Możemy to zmienić podając drugi argument (flagę) do funkcji open:\n* `'w'` oznacza otwarcie do zapisu (**w**rite) - plik zostanie utworzony (jeśli nie istnieje), lub wymazany (jeśli istnieje)\n* `'a'` oznacza otwarcie do \"do\"pisu (**a**ppend) - plik zostanie utworzony (jeśli nie istnieje), lub będziemy pisać na jego końcu (jeśli istnieje)\n* `'r'` otwiera plik do odczytu (**r**ead)\n\nFlagi można łączyć.\n\n### Czytanie z pliku\n\nFunkcje służące do czytania z pliku 'wbudowane' są w nasz otwarty obiekt pliku, są to np.:\n* *moj_plik*`.read()` - zwraca całą zawartość pliku jako jeden napis\n* *moj_plik*`.readlines()` - zwraca listę wszystkich linijek pliku jako napisów\n* *moj_plik*`.readline()` - zwraca pierwszą nieprzeczytaną(!!) linię z pliku (zachowuje znak końca linii)\n    \n### Pisanie do pliku\n\nPiszemy do pliku również funkcją należącą do obiektu:\n```\nmoj_plik.write(\"jakiś napis\")\n```\nArugmentem musi być napis (string)! I write samo nie dodaje znaku nowej linii\n\n\n### Zamykanie plików\n\nPo zakończeniu działania na pliku powinniśmy go zamknąć:\n    * kultura pracy\n    * ...\n```\nmoj_plik.close()\n```"
    },
    {
      "metadata": {
        "trusted": true
      },
      "cell_type": "code",
      "source": "moj_plik = open(\"./plikDoOdczytu.log\")",
      "execution_count": 52,
      "outputs": [
        {
          "output_type": "error",
          "ename": "FileNotFoundError",
          "evalue": "[Errno 2] No such file or directory: './plikDoOdczytu.log'",
          "traceback": [
            "\u001b[0;31m---------------------------------------------------------------------------\u001b[0m",
            "\u001b[0;31mFileNotFoundError\u001b[0m                         Traceback (most recent call last)",
            "\u001b[0;32m<ipython-input-52-92837c1ea4a1>\u001b[0m in \u001b[0;36m<module>\u001b[0;34m()\u001b[0m\n\u001b[0;32m----> 1\u001b[0;31m \u001b[0mmoj_plik\u001b[0m \u001b[0;34m=\u001b[0m \u001b[0mopen\u001b[0m\u001b[0;34m(\u001b[0m\u001b[0;34m\"./plikDoOdczytu.log\"\u001b[0m\u001b[0;34m)\u001b[0m\u001b[0;34m\u001b[0m\u001b[0m\n\u001b[0m",
            "\u001b[0;31mFileNotFoundError\u001b[0m: [Errno 2] No such file or directory: './plikDoOdczytu.log'"
          ]
        }
      ]
    },
    {
      "metadata": {
        "trusted": true
      },
      "cell_type": "code",
      "source": "moj_plik = open(\"./plikDoZapisu.txt\",\"w\")\nmoj_plik.write(\"jakis napis\\n\")\nmoj_plik.write(\"1,4,5\")\nmoj_plik.write('42')\nmoj_plik.write(\"\\n\\n\")\nmoj_plik.write(\"konczymy\")\nmoj_plik.close()",
      "execution_count": 53,
      "outputs": []
    },
    {
      "metadata": {
        "trusted": true
      },
      "cell_type": "code",
      "source": "moj_plik = open(\"./plikDoZapisu.txt\")\na = moj_plik.readline()\nprint(\"A to:\", a)\nb = moj_plik.readline()\nprint(\"B to:\", b)\nc = moj_plik.read()\nprint(\"C to:\", c)",
      "execution_count": 55,
      "outputs": [
        {
          "output_type": "stream",
          "text": "A to: jakis napis\n\nB to: 1,4,542\n\nC to: \nkonczymy\n",
          "name": "stdout"
        }
      ]
    },
    {
      "metadata": {
        "trusted": true
      },
      "cell_type": "code",
      "source": "moj_plik2 = open(\"./plikDoZapisu.txt\",\"w\")\nmoj_plik2.write(\"traaks\\n\")",
      "execution_count": 56,
      "outputs": [
        {
          "output_type": "execute_result",
          "execution_count": 56,
          "data": {
            "text/plain": "7"
          },
          "metadata": {}
        }
      ]
    },
    {
      "metadata": {
        "trusted": true
      },
      "cell_type": "code",
      "source": "print(moj_plik.read())",
      "execution_count": 57,
      "outputs": [
        {
          "output_type": "stream",
          "text": "\n",
          "name": "stdout"
        }
      ]
    },
    {
      "metadata": {
        "trusted": true
      },
      "cell_type": "code",
      "source": "moj_plik3 = open(\"./plikDoZapisu.txt\",\"r\")\nprint(moj_plik3.read())",
      "execution_count": 58,
      "outputs": [
        {
          "output_type": "stream",
          "text": "\n",
          "name": "stdout"
        }
      ]
    },
    {
      "metadata": {},
      "cell_type": "markdown",
      "source": "### Wersja dla zapomnialskich\n\nZamiast pisać:\n\n```\nzielonaKrowa = open(\"./SuperTajneHasla.txt\")\nzrob_cos(zielonaKrowa)\ninne_cos(zielonaKrowa)\nzielonaKrowa.close()\n```\nMożemy zastosować konstrukcję z `with`:\n```\nwith open(\"./SuperTajneHasla.txt\") as zielonaKrowa:\n    zrob_cos(zielonaKrowa)\n    inne_cos(zielonaKrowa)\n``` \nZakończenie kontekstu (na nasze potrzeby - wcięcia) `with` automatycznie zamknie nasz plik."
    },
    {
      "metadata": {
        "trusted": true
      },
      "cell_type": "code",
      "source": "",
      "execution_count": null,
      "outputs": []
    }
  ],
  "metadata": {
    "kernelspec": {
      "name": "python3",
      "display_name": "Python 3",
      "language": "python"
    },
    "language_info": {
      "mimetype": "text/x-python",
      "nbconvert_exporter": "python",
      "name": "python",
      "file_extension": ".py",
      "version": "3.5.4",
      "pygments_lexer": "ipython3",
      "codemirror_mode": {
        "version": 3,
        "name": "ipython"
      }
    }
  },
  "nbformat": 4,
  "nbformat_minor": 2
}