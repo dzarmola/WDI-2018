{
  "cells": [
    {
      "metadata": {
        "collapsed": true
      },
      "cell_type": "markdown",
      "source": "# Ćwiczenia 1\n\nSłowo wstępne (przypominające):\n* indeksujemy zawsze od 0\n* przypisujemy od prawej do lewej, tzn:\n```nazwa_zmiennej = wartosc```\n\n`a=12` przypisuje `a <- 12`\n* konteksty (np. pętli i warunków) wyznaczone są wcięciem (zamiast np. nawiasów wąsatych jak w C lub JavaScripcie)\n\n## Podstawowe typy danych:\n* liczba, np. `5`, `int(5)`\n* liczba zmiennoprzecinkowa, np. `5.0`, `float(5)`\n* napis, np. `\"5\"`, `'5'`, `str(5)`\n* kilka innych dokładności liczb...\n\n### Bardziej złożony typ - lista \n* zmienna (mutable)\n* można wydłużyć, można skrócić, można coś podstawić\n* nie ma jednego okreslonego typu zawieranych danych\n"
    },
    {
      "metadata": {
        "trusted": true
      },
      "cell_type": "code",
      "source": "batman = \"Trochę człowiek, trochę też nietoperz\"\ndrakula = batman\nprint(drakula)",
      "execution_count": 1,
      "outputs": [
        {
          "output_type": "stream",
          "text": "Trochę człowiek, trochę też nietoperz\n",
          "name": "stdout"
        }
      ]
    },
    {
      "metadata": {
        "trusted": true
      },
      "cell_type": "code",
      "source": "drakula = batman + \": głównie krwiopijca\"\nprint(drakula)\nprint(batman)",
      "execution_count": 6,
      "outputs": [
        {
          "output_type": "stream",
          "text": "Trochę człowiek, trochę też nietoperz: głównie krwiopijca\n",
          "name": "stdout"
        }
      ]
    },
    {
      "metadata": {
        "trusted": true
      },
      "cell_type": "code",
      "source": "# Funkcja do uzupełnienia\ndef wycinajka(napis, a, b, c, d):\n    \"\"\" Funkcja, która przyjmuje string, oraz 4 liczby całkowite,\n        i zwraca fragmenty napisu z indeksów a do b (włącznie),\n        oraz c do d (włącznie) \"\"\"\n    return \"uzupełnij mnie\"",
      "execution_count": 15,
      "outputs": []
    },
    {
      "metadata": {
        "trusted": true
      },
      "cell_type": "code",
      "source": "test1 = \"Exegi monumentum aere perennius, regalique situ pyramidium altius\"\nassert wycinajka(test1, 6, 15, 48,57 )[0] == \"monumentum\"",
      "execution_count": 18,
      "outputs": []
    },
    {
      "metadata": {
        "trusted": true
      },
      "cell_type": "code",
      "source": "from math import sqrt\ndef wymnazajka(a,b):\n    \"\"\"Funkcja, która przyjmuje długości przyprostokątnych trójkąta\n    prostokątnego i zwraca długość trzeciego boku\"\"\"\n    return 0",
      "execution_count": 23,
      "outputs": []
    },
    {
      "metadata": {
        "trusted": true
      },
      "cell_type": "code",
      "source": "test2 = [3,4]\nassert wymnazajka(test2[0],test2[1]) == 5",
      "execution_count": 27,
      "outputs": []
    },
    {
      "metadata": {
        "trusted": true
      },
      "cell_type": "code",
      "source": "",
      "execution_count": null,
      "outputs": []
    }
  ],
  "metadata": {
    "kernelspec": {
      "name": "python36",
      "display_name": "Python 3.6",
      "language": "python"
    },
    "language_info": {
      "mimetype": "text/x-python",
      "nbconvert_exporter": "python",
      "name": "python",
      "pygments_lexer": "ipython3",
      "version": "3.6.6",
      "file_extension": ".py",
      "codemirror_mode": {
        "version": 3,
        "name": "ipython"
      }
    }
  },
  "nbformat": 4,
  "nbformat_minor": 2
}