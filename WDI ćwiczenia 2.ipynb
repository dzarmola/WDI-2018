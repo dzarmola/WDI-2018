{
  "cells": [
    {
      "metadata": {
        "collapsed": true
      },
      "cell_type": "markdown",
      "source": "# WDI - Ćwiczenia 2 (09.10.2018)\n\nWszystkie zadania powinny być wykonywane na pliku w formacie Fasta\nręcznie pobranym z bazy InterPro (sekwencje hemoglobiny alfa):\nhttp://www.ebi.ac.uk/interpro/entry/IPR002338\n\nUżyteczna funkcja:\n_napisłączący_`.join(lista_napisów_do_połączenia)` , np.:\n\n`\";\".join([\"a\",\"bc\",\"de\",\"f\"])` zwróci `\"a;bc;de;f\"`\n\n\n### Polecenia:\n* należy policzyć ile jest sekwencji w pliku"
    },
    {
      "metadata": {
        "trusted": true
      },
      "cell_type": "code",
      "source": "def ile_sekwencji(nazwa_pliku):\n    otwarty_plik = open(nazwa_pliku)\n    liczba = 0\n    ### do uzupelnienia\n    # spostrzeżenie z zajęć: każda sekwencja w pliku fasta zaczyna się znakiem \">\"\n    otwarty_plik.close()\n    return liczba\n",
      "execution_count": null,
      "outputs": []
    },
    {
      "metadata": {
        "trusted": true
      },
      "cell_type": "code",
      "source": "nazwa_pliku = \"proteins-matched.txt\"\nliczba_sekwencji = ile_sekwencji(nazwa_pliku)\ntry: #kawałek kodu sprawdzający poprawność rozwiązania\n    assert liczba_sekwencji == 2475\n    print(\"Dobrze\")\nexcept AssertionError:\n    print(\"{} != 2475\".format(liczba_sekwencji))",
      "execution_count": null,
      "outputs": []
    },
    {
      "metadata": {},
      "cell_type": "markdown",
      "source": "* należy utworzyć słownik w którym kluczami będą nazwy sekwencji, a wartościami odpowiadające\nim sekwencje aminokwasowe"
    },
    {
      "metadata": {
        "trusted": true
      },
      "cell_type": "code",
      "source": "def zrob_slownik(nazwa_pliku):\n    otwarty_plik = open(nazwa_pliku)\n    slownik_sekwencji = {}\n    ### do uzupełnienia\n    # spostrzeżenie z zajęć: każda sekwencja w pliku fasta zaczyna się znakiem \">\"\n    # jedna sekwencja może mieć kilka linijek, ale zawsze w pierwszej, i tylko w pierwszej, jest jej nazwa\n    otwarty_plik.close()\n    return slownik_sekwencji",
      "execution_count": null,
      "outputs": []
    },
    {
      "metadata": {
        "trusted": true
      },
      "cell_type": "code",
      "source": "slownik = zrob_slownik(nazwa_pliku)\n\ntry: #kawałek kodu sprawdzający poprawność rozwiązania\n    assert len(slownik) == 2475 and slownik[\"A1A4Q3\"] == 'MLSAQERAHITQVWDLIAGHEAPFGAELLRRLFTVYPSTKVYFRHLGDHPDEVQLLSHGQRMLQAVGVAVQYMDNLRAVLSPLADLHAQVLRVDPTNFPLVIQCFQVVLASHLQGEFTVEMQAAWDKFLTGVAVVLTEKYR'\n    print(\"Dobrze\")\nexcept AssertionError:\n    print(\"Coś jest nie tak\")\n",
      "execution_count": null,
      "outputs": []
    },
    {
      "metadata": {},
      "cell_type": "markdown",
      "source": "* następnie policzyć średnią długość sekwencji w slowniku"
    },
    {
      "metadata": {
        "trusted": true
      },
      "cell_type": "code",
      "source": "def srednia(slownik_sekwencji):\n    laczna_dlugosc = 0\n    liczba_sekwencji = 1\n    ### do uzupelnienia\n    return laczna_dlugosc/liczba_sekwencji",
      "execution_count": null,
      "outputs": []
    },
    {
      "metadata": {
        "trusted": true
      },
      "cell_type": "code",
      "source": "srednia_dlugosc = srednia(slownik)\ntry: #kawałek kodu sprawdzający poprawność rozwiązania\n    assert round(srednia_dlugosc,2) == 140.79\n    print(\"Dobrze!\")\nexcept AssertionError:\n    print(\"Coś jest nie tak: {} != 140.79\".format(round(srednia_dlugosc,2)))",
      "execution_count": null,
      "outputs": []
    },
    {
      "metadata": {},
      "cell_type": "markdown",
      "source": "#### Do zabawy w domu\n* policzyć ile razy we wszystkich sekwencjach lącznie występuje Leucyna\n* policzyć ile razy we wszystkich sekwencjach lącznie występuje każdy z aminokwasów"
    },
    {
      "metadata": {
        "trusted": true
      },
      "cell_type": "code",
      "source": "def ile_leucyn(slownik):\n    liczba = 0\n    ### do uzupelnienia\n    return liczba",
      "execution_count": null,
      "outputs": []
    },
    {
      "metadata": {
        "trusted": true
      },
      "cell_type": "code",
      "source": "liczba_leucyn = ile_leucyn(slownik)\ntry: #kawałek kodu sprawdzający poprawność rozwiązania\n    assert liczba_leucyn == 41370\n    print(\"Dobrze\")\nexcept AssertionError:\n    print(\"Coś jest nie tak: {} != 41370\".format(liczba_leucyn))",
      "execution_count": null,
      "outputs": []
    },
    {
      "metadata": {
        "trusted": true
      },
      "cell_type": "code",
      "source": "def liczebnosci(slownik):\n    liczebnosci = {}\n    ### do uzupelnienia\n    return liczebnosci",
      "execution_count": null,
      "outputs": []
    },
    {
      "metadata": {
        "trusted": true
      },
      "cell_type": "code",
      "source": "wszystkie_aa = liczebnosci(slownik)\n\ntry: #kawałek kodu sprawdzający poprawność rozwiązania\n    assert wszystkie_aa[\"Y\"] == 9464\n    print(\"Dobrze\")\nexcept:\n    print(\"Coś jest nie tak\")",
      "execution_count": null,
      "outputs": []
    },
    {
      "metadata": {
        "trusted": true
      },
      "cell_type": "code",
      "source": "",
      "execution_count": null,
      "outputs": []
    }
  ],
  "metadata": {
    "kernelspec": {
      "name": "python36",
      "display_name": "Python 3.6",
      "language": "python"
    },
    "language_info": {
      "mimetype": "text/x-python",
      "nbconvert_exporter": "python",
      "name": "python",
      "pygments_lexer": "ipython3",
      "version": "3.6.6",
      "file_extension": ".py",
      "codemirror_mode": {
        "version": 3,
        "name": "ipython"
      }
    }
  },
  "nbformat": 4,
  "nbformat_minor": 2
}